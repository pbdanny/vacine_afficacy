{
 "metadata": {
  "language_info": {
   "codemirror_mode": {
    "name": "ipython",
    "version": 3
   },
   "file_extension": ".py",
   "mimetype": "text/x-python",
   "name": "python",
   "nbconvert_exporter": "python",
   "pygments_lexer": "ipython3",
   "version": "3.7.7"
  },
  "orig_nbformat": 2,
  "kernelspec": {
   "name": "python377jvsc74a57bd08593bcb14d23798af140875f63aa3b60117bf54d874449346384c518b9e10cd2",
   "display_name": "Python 3.7.7 64-bit (conda)"
  }
 },
 "nbformat": 4,
 "nbformat_minor": 2,
 "cells": [
  {
   "source": [
    "# Vaccine Efficacy\n",
    "\n",
    "Source : https://sachin-date.medium.com/how-to-estimate-vaccine-efficacy-using-a-logistic-regression-model-121f9ca5a9d8\n",
    "\n",
    "$Vaccine Efficacy (VE)  = 1 - Incident Rate Ratio (IRR)$  \n",
    "$IRR = \\frac{p_{vacinated}} {p_{placebo}}$"
   ],
   "cell_type": "markdown",
   "metadata": {}
  },
  {
   "cell_type": "code",
   "execution_count": 5,
   "metadata": {},
   "outputs": [],
   "source": [
    "import pandas as pd\n",
    "import numpy as np\n",
    "import statsmodels.api as sm"
   ]
  },
  {
   "cell_type": "code",
   "execution_count": 6,
   "metadata": {},
   "outputs": [],
   "source": [
    "# df = pd.read_csv('https://gist.githubusercontent.com/sachinsdate/2a6dc052b3c416e24a4d04c468358c44/raw/376939c4a1e8205f6bda03d0415b9758986ff693/vaccine_trial_simulation_study.csv')\n",
    "df = pd.read_csv('vaccine_trial_simulation_study.csv')"
   ]
  },
  {
   "cell_type": "code",
   "execution_count": 7,
   "metadata": {},
   "outputs": [
    {
     "output_type": "execute_result",
     "data": {
      "text/plain": [
       "   INTERVAL_BETWEEN_DOSES  VACCINATED  INFECTED\n",
       "0                       0           1         1\n",
       "1                       0           1         1\n",
       "2                       0           1         1\n",
       "3                       0           1         1\n",
       "4                       0           1         1"
      ],
      "text/html": "<div>\n<style scoped>\n    .dataframe tbody tr th:only-of-type {\n        vertical-align: middle;\n    }\n\n    .dataframe tbody tr th {\n        vertical-align: top;\n    }\n\n    .dataframe thead th {\n        text-align: right;\n    }\n</style>\n<table border=\"1\" class=\"dataframe\">\n  <thead>\n    <tr style=\"text-align: right;\">\n      <th></th>\n      <th>INTERVAL_BETWEEN_DOSES</th>\n      <th>VACCINATED</th>\n      <th>INFECTED</th>\n    </tr>\n  </thead>\n  <tbody>\n    <tr>\n      <th>0</th>\n      <td>0</td>\n      <td>1</td>\n      <td>1</td>\n    </tr>\n    <tr>\n      <th>1</th>\n      <td>0</td>\n      <td>1</td>\n      <td>1</td>\n    </tr>\n    <tr>\n      <th>2</th>\n      <td>0</td>\n      <td>1</td>\n      <td>1</td>\n    </tr>\n    <tr>\n      <th>3</th>\n      <td>0</td>\n      <td>1</td>\n      <td>1</td>\n    </tr>\n    <tr>\n      <th>4</th>\n      <td>0</td>\n      <td>1</td>\n      <td>1</td>\n    </tr>\n  </tbody>\n</table>\n</div>"
     },
     "metadata": {},
     "execution_count": 7
    }
   ],
   "source": [
    "df.head()"
   ]
  },
  {
   "source": [
    "### Analysis\n",
    "1 Standard inference with statistical test  \n",
    "2 Standard inference with Statsmodel  \n",
    "3 Bootstraping inference  "
   ],
   "cell_type": "markdown",
   "metadata": {}
  },
  {
   "source": [
    "### Basic Summary"
   ],
   "cell_type": "markdown",
   "metadata": {}
  },
  {
   "cell_type": "code",
   "execution_count": 9,
   "metadata": {},
   "outputs": [
    {
     "output_type": "execute_result",
     "data": {
      "text/plain": [
       "INFECTED       0    1\n",
       "VACCINATED           \n",
       "0           5523  555\n",
       "1           5891   31"
      ],
      "text/html": "<div>\n<style scoped>\n    .dataframe tbody tr th:only-of-type {\n        vertical-align: middle;\n    }\n\n    .dataframe tbody tr th {\n        vertical-align: top;\n    }\n\n    .dataframe thead th {\n        text-align: right;\n    }\n</style>\n<table border=\"1\" class=\"dataframe\">\n  <thead>\n    <tr style=\"text-align: right;\">\n      <th>INFECTED</th>\n      <th>0</th>\n      <th>1</th>\n    </tr>\n    <tr>\n      <th>VACCINATED</th>\n      <th></th>\n      <th></th>\n    </tr>\n  </thead>\n  <tbody>\n    <tr>\n      <th>0</th>\n      <td>5523</td>\n      <td>555</td>\n    </tr>\n    <tr>\n      <th>1</th>\n      <td>5891</td>\n      <td>31</td>\n    </tr>\n  </tbody>\n</table>\n</div>"
     },
     "metadata": {},
     "execution_count": 9
    }
   ],
   "source": [
    "pd.crosstab(index=df['VACCINATED'], columns=df['INFECTED'])"
   ]
  },
  {
   "cell_type": "code",
   "execution_count": 10,
   "metadata": {},
   "outputs": [
    {
     "output_type": "execute_result",
     "data": {
      "text/plain": [
       "INFECTED        0    1    All\n",
       "VACCINATED                   \n",
       "0            5523  555   6078\n",
       "1            5891   31   5922\n",
       "All         11414  586  12000"
      ],
      "text/html": "<div>\n<style scoped>\n    .dataframe tbody tr th:only-of-type {\n        vertical-align: middle;\n    }\n\n    .dataframe tbody tr th {\n        vertical-align: top;\n    }\n\n    .dataframe thead th {\n        text-align: right;\n    }\n</style>\n<table border=\"1\" class=\"dataframe\">\n  <thead>\n    <tr style=\"text-align: right;\">\n      <th>INFECTED</th>\n      <th>0</th>\n      <th>1</th>\n      <th>All</th>\n    </tr>\n    <tr>\n      <th>VACCINATED</th>\n      <th></th>\n      <th></th>\n      <th></th>\n    </tr>\n  </thead>\n  <tbody>\n    <tr>\n      <th>0</th>\n      <td>5523</td>\n      <td>555</td>\n      <td>6078</td>\n    </tr>\n    <tr>\n      <th>1</th>\n      <td>5891</td>\n      <td>31</td>\n      <td>5922</td>\n    </tr>\n    <tr>\n      <th>All</th>\n      <td>11414</td>\n      <td>586</td>\n      <td>12000</td>\n    </tr>\n  </tbody>\n</table>\n</div>"
     },
     "metadata": {},
     "execution_count": 10
    }
   ],
   "source": [
    "pd.crosstab(index=df['VACCINATED'], columns=df['INFECTED'], margins=True)"
   ]
  },
  {
   "cell_type": "code",
   "execution_count": 11,
   "metadata": {},
   "outputs": [
    {
     "output_type": "execute_result",
     "data": {
      "text/plain": [
       "INFECTED           0         1     All\n",
       "VACCINATED                            \n",
       "0           0.460250  0.046250  0.5065\n",
       "1           0.490917  0.002583  0.4935\n",
       "All         0.951167  0.048833  1.0000"
      ],
      "text/html": "<div>\n<style scoped>\n    .dataframe tbody tr th:only-of-type {\n        vertical-align: middle;\n    }\n\n    .dataframe tbody tr th {\n        vertical-align: top;\n    }\n\n    .dataframe thead th {\n        text-align: right;\n    }\n</style>\n<table border=\"1\" class=\"dataframe\">\n  <thead>\n    <tr style=\"text-align: right;\">\n      <th>INFECTED</th>\n      <th>0</th>\n      <th>1</th>\n      <th>All</th>\n    </tr>\n    <tr>\n      <th>VACCINATED</th>\n      <th></th>\n      <th></th>\n      <th></th>\n    </tr>\n  </thead>\n  <tbody>\n    <tr>\n      <th>0</th>\n      <td>0.460250</td>\n      <td>0.046250</td>\n      <td>0.5065</td>\n    </tr>\n    <tr>\n      <th>1</th>\n      <td>0.490917</td>\n      <td>0.002583</td>\n      <td>0.4935</td>\n    </tr>\n    <tr>\n      <th>All</th>\n      <td>0.951167</td>\n      <td>0.048833</td>\n      <td>1.0000</td>\n    </tr>\n  </tbody>\n</table>\n</div>"
     },
     "metadata": {},
     "execution_count": 11
    }
   ],
   "source": [
    "pd.crosstab(index=df['VACCINATED'], columns=df['INFECTED'], margins=True, normalize=True)"
   ]
  },
  {
   "source": [
    "### 1) Test if the `INFECTED` independence of `VACCINATED`  "
   ],
   "cell_type": "markdown",
   "metadata": {}
  },
  {
   "source": [
    "#### 1.1) $\\chi^2$ test of independence, library `Scipy`  \n",
    "reference : https://www.jmp.com/en_us/statistics-knowledge-portal/chi-square-test.html  \n",
    "reference : https://stats.stackexchange.com/questions/110718/chi-squared-test-with-scipy-whats-the-difference-between-chi2-contingency-and  "
   ],
   "cell_type": "markdown",
   "metadata": {}
  },
  {
   "cell_type": "code",
   "execution_count": 22,
   "metadata": {},
   "outputs": [],
   "source": [
    "from scipy.stats import chi2_contingency"
   ]
  },
  {
   "cell_type": "code",
   "execution_count": 23,
   "metadata": {},
   "outputs": [],
   "source": [
    "contingency_tbl = pd.crosstab(index=df['VACCINATED'], columns=df['INFECTED'])"
   ]
  },
  {
   "cell_type": "code",
   "execution_count": 26,
   "metadata": {},
   "outputs": [
    {
     "output_type": "execute_result",
     "data": {
      "text/plain": [
       "array([[5781.191,  296.809],\n",
       "       [5632.809,  289.191]])"
      ]
     },
     "metadata": {},
     "execution_count": 26
    }
   ],
   "source": [
    "chi, p, ddof, expected = chi2_contingency(contingency_tbl)\n",
    "expected"
   ]
  },
  {
   "cell_type": "code",
   "execution_count": 27,
   "metadata": {},
   "outputs": [
    {
     "output_type": "stream",
     "name": "stdout",
     "text": [
      "1.1586205594709897e-105\n"
     ]
    }
   ],
   "source": [
    "print(p)"
   ]
  },
  {
   "source": [
    "With p = 1.15 e-105, chance of repeate testing and find the same result : dependence between 2 categorical variables"
   ],
   "cell_type": "markdown",
   "metadata": {}
  },
  {
   "source": [
    "#### 1.2) $\\chi^2$ test of independence, library `statsmodels.`\n",
    "reference : https://www.statsmodels.org/stable/contingency_tables.html"
   ],
   "cell_type": "markdown",
   "metadata": {}
  },
  {
   "cell_type": "code",
   "execution_count": 16,
   "metadata": {},
   "outputs": [],
   "source": [
    "contingency_tbl = pd.crosstab(index=df['VACCINATED'], columns=df['INFECTED'])\n",
    "# Convert numpy table to Statsmodel contingency table\n",
    "cont_tbl_sm = sm.stats.Table(contingency_tbl)"
   ]
  },
  {
   "cell_type": "code",
   "execution_count": 19,
   "metadata": {},
   "outputs": [
    {
     "output_type": "execute_result",
     "data": {
      "text/plain": [
       "INFECTED       0    1\n",
       "VACCINATED           \n",
       "0           5523  555\n",
       "1           5891   31"
      ],
      "text/html": "<div>\n<style scoped>\n    .dataframe tbody tr th:only-of-type {\n        vertical-align: middle;\n    }\n\n    .dataframe tbody tr th {\n        vertical-align: top;\n    }\n\n    .dataframe thead th {\n        text-align: right;\n    }\n</style>\n<table border=\"1\" class=\"dataframe\">\n  <thead>\n    <tr style=\"text-align: right;\">\n      <th>INFECTED</th>\n      <th>0</th>\n      <th>1</th>\n    </tr>\n    <tr>\n      <th>VACCINATED</th>\n      <th></th>\n      <th></th>\n    </tr>\n  </thead>\n  <tbody>\n    <tr>\n      <th>0</th>\n      <td>5523</td>\n      <td>555</td>\n    </tr>\n    <tr>\n      <th>1</th>\n      <td>5891</td>\n      <td>31</td>\n    </tr>\n  </tbody>\n</table>\n</div>"
     },
     "metadata": {},
     "execution_count": 19
    }
   ],
   "source": [
    "# original contingency table\n",
    "cont_tbl_sm.table_orig"
   ]
  },
  {
   "cell_type": "code",
   "execution_count": 28,
   "metadata": {},
   "outputs": [
    {
     "output_type": "execute_result",
     "data": {
      "text/plain": [
       "INFECTED           0        1\n",
       "VACCINATED                   \n",
       "0           5781.191  296.809\n",
       "1           5632.809  289.191"
      ],
      "text/html": "<div>\n<style scoped>\n    .dataframe tbody tr th:only-of-type {\n        vertical-align: middle;\n    }\n\n    .dataframe tbody tr th {\n        vertical-align: top;\n    }\n\n    .dataframe thead th {\n        text-align: right;\n    }\n</style>\n<table border=\"1\" class=\"dataframe\">\n  <thead>\n    <tr style=\"text-align: right;\">\n      <th>INFECTED</th>\n      <th>0</th>\n      <th>1</th>\n    </tr>\n    <tr>\n      <th>VACCINATED</th>\n      <th></th>\n      <th></th>\n    </tr>\n  </thead>\n  <tbody>\n    <tr>\n      <th>0</th>\n      <td>5781.191</td>\n      <td>296.809</td>\n    </tr>\n    <tr>\n      <th>1</th>\n      <td>5632.809</td>\n      <td>289.191</td>\n    </tr>\n  </tbody>\n</table>\n</div>"
     },
     "metadata": {},
     "execution_count": 28
    }
   ],
   "source": [
    "# Expected contingency table if factor are independence\n",
    "cont_tbl_sm.fittedvalues"
   ]
  },
  {
   "cell_type": "code",
   "execution_count": 37,
   "metadata": {},
   "outputs": [
    {
     "output_type": "execute_result",
     "data": {
      "text/plain": [
       "0.0"
      ]
     },
     "metadata": {},
     "execution_count": 37
    }
   ],
   "source": [
    "test_chi_indep = cont_tbl_sm.test_nominal_association()\n",
    "test_chi_indep.pvalue"
   ]
  },
  {
   "source": [
    "### 2) Test if proportion of `INFECTED` differ between `VACCINATED` group"
   ],
   "cell_type": "markdown",
   "metadata": {}
  },
  {
   "source": [
    "#### 2.1) Sampling distribution test with $Z-test$ , library `scipy`\n",
    "\n",
    "reference : https://online.stat.psu.edu/stat415/lesson/9/9.4\n",
    "\n",
    "reference : https://www.statsmodels.org/stable/generated/statsmodels.stats.proportion.test_proportions_2indep.html#statsmodels.stats.proportion.test_proportions_2indep\n",
    "\n",
    "`Assumption CTL` difference of sampling proportion is *Normal*\n",
    "Hypothesis Test  \n",
    "$H_0$ : $P_{vac} = P_{not vac.}$, $P_{vac} - P_{not vac.} = 0$  \n",
    "$H_A$ : $P_{vac} \\neq P_{not vac.}$"
   ],
   "cell_type": "markdown",
   "metadata": {}
  },
  {
   "cell_type": "code",
   "execution_count": 57,
   "metadata": {},
   "outputs": [],
   "source": [
    "df_vac = df[df['VACCINATED'] == 1]\n",
    "df_not_vac = df[df['VACCINATED'] != 1]\n",
    "n_vac = df_vac.shape[0]\n",
    "n_not_vac = df_not_vac.shape[0]\n",
    "n_combine = df.shape[0]\n",
    "p_vac = df_vac['INFECTED'].sum()/n_vac\n",
    "p_not_vac = df_not_vac['INFECTED'].sum()/n_not_vac\n",
    "p_combine = df['INFECTED'].sum()/n_combine\n",
    "se_combine = np.sqrt((p_combine*(1-p_combine))*(1/n_not_vac + 1/n_vac))"
   ]
  },
  {
   "cell_type": "code",
   "execution_count": 58,
   "metadata": {},
   "outputs": [
    {
     "output_type": "stream",
     "name": "stdout",
     "text": [
      "0.005234718000675448, 5922\n0.09131293188548864, 6078\n0.04883333333333333, 12000\n"
     ]
    }
   ],
   "source": [
    "print(f'{p_vac}, {n_vac}'); print(f'{p_not_vac}, {n_not_vac}'); print(f'{p_combine}, {n_combine}')"
   ]
  },
  {
   "cell_type": "code",
   "execution_count": 65,
   "metadata": {},
   "outputs": [],
   "source": [
    "z_test_score = ((p_not_vac - p_vac) - (0))/se_combine"
   ]
  },
  {
   "cell_type": "code",
   "execution_count": 66,
   "metadata": {},
   "outputs": [
    {
     "output_type": "stream",
     "name": "stdout",
     "text": [
      "21.874124374627076\n2.291116351867227e-106\n"
     ]
    }
   ],
   "source": [
    "import scipy as sp\n",
    "\n",
    "print(z_test_score)\n",
    "p_value = sp.stats.norm.sf(z_test_score)\n",
    "print(p_value)"
   ]
  },
  {
   "source": [
    "#### 2.2) Sampling distribution test with $Z-test$ , library `statsmodels`\n",
    "reference : https://sonalake.com/latest/hypothesis-testing-of-proportion-based-samples/"
   ],
   "cell_type": "markdown",
   "metadata": {}
  },
  {
   "cell_type": "code",
   "execution_count": 67,
   "metadata": {},
   "outputs": [
    {
     "output_type": "stream",
     "name": "stdout",
     "text": [
      "z_stat: 21.874, p_value: 0.000\n"
     ]
    }
   ],
   "source": [
    "from statsmodels.stats.proportion import proportions_ztest\n",
    "import numpy as np\n",
    "\n",
    "vac_infected, vac_size = (df_vac['INFECTED'].sum(), df_vac.shape[0])\n",
    "not_vac_infected, not_vac_infected_size = (df_not_vac['INFECTED'].sum(), df_not_vac.shape[0])\n",
    "\n",
    "# check our sample against Ho for Ha != Ho\n",
    "total_infected = np.array([not_vac_infected, vac_infected])\n",
    "total_size = np.array([not_vac_infected_size, vac_size])\n",
    "\n",
    "# note, no need for a Ho value here - it's derived from the other parameters\n",
    "stat, p_value = proportions_ztest(count=total_infected, nobs=total_size,  alternative='two-sided')\n",
    "\n",
    "# report\n",
    "print('z_stat: %0.3f, p_value: %0.3f' % (stat, p_value))"
   ]
  },
  {
   "source": [
    "#### 2.3) Bootstraping test  \n",
    "reference : https://stats.stackexchange.com/questions/395120/proportion-test-z-test-vs-bootstrap-simulation-different-results"
   ],
   "cell_type": "markdown",
   "metadata": {}
  },
  {
   "cell_type": "code",
   "execution_count": null,
   "metadata": {},
   "outputs": [],
   "source": []
  }
 ]
}