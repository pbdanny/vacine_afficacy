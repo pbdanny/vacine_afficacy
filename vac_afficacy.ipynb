{
 "metadata": {
  "language_info": {
   "codemirror_mode": {
    "name": "ipython",
    "version": 3
   },
   "file_extension": ".py",
   "mimetype": "text/x-python",
   "name": "python",
   "nbconvert_exporter": "python",
   "pygments_lexer": "ipython3",
   "version": "3.7.7"
  },
  "orig_nbformat": 2,
  "kernelspec": {
   "name": "python377jvsc74a57bd08593bcb14d23798af140875f63aa3b60117bf54d874449346384c518b9e10cd2",
   "display_name": "Python 3.7.7 64-bit (conda)"
  }
 },
 "nbformat": 4,
 "nbformat_minor": 2,
 "cells": [
  {
   "source": [
    "# Vaccine Efficacy\n",
    "\n",
    "Source : https://sachin-date.medium.com/how-to-estimate-vaccine-efficacy-using-a-logistic-regression-model-121f9ca5a9d8\n",
    "\n",
    "$Vaccine Efficacy (VE)  = 1 - Incident Rate Ratio (IRR)$  \n",
    "$IRR = \\frac{p_{vacinated}} {p_{placebo}}$"
   ],
   "cell_type": "markdown",
   "metadata": {}
  },
  {
   "cell_type": "code",
   "execution_count": 2,
   "metadata": {},
   "outputs": [],
   "source": [
    "import pandas as pd\n",
    "import numpy as np\n",
    "import statsmodels.api as sm\n",
    "import statsmodels.formula.api as smf"
   ]
  },
  {
   "cell_type": "code",
   "execution_count": 3,
   "metadata": {},
   "outputs": [],
   "source": [
    "# df = pd.read_csv('https://gist.githubusercontent.com/sachinsdate/2a6dc052b3c416e24a4d04c468358c44/raw/376939c4a1e8205f6bda03d0415b9758986ff693/vaccine_trial_simulation_study.csv')\n",
    "df = pd.read_csv('vaccine_trial_simulation_study.csv')"
   ]
  },
  {
   "cell_type": "code",
   "execution_count": 4,
   "metadata": {},
   "outputs": [
    {
     "output_type": "execute_result",
     "data": {
      "text/plain": [
       "   INTERVAL_BETWEEN_DOSES  VACCINATED  INFECTED\n",
       "0                       0           1         1\n",
       "1                       0           1         1\n",
       "2                       0           1         1\n",
       "3                       0           1         1\n",
       "4                       0           1         1"
      ],
      "text/html": "<div>\n<style scoped>\n    .dataframe tbody tr th:only-of-type {\n        vertical-align: middle;\n    }\n\n    .dataframe tbody tr th {\n        vertical-align: top;\n    }\n\n    .dataframe thead th {\n        text-align: right;\n    }\n</style>\n<table border=\"1\" class=\"dataframe\">\n  <thead>\n    <tr style=\"text-align: right;\">\n      <th></th>\n      <th>INTERVAL_BETWEEN_DOSES</th>\n      <th>VACCINATED</th>\n      <th>INFECTED</th>\n    </tr>\n  </thead>\n  <tbody>\n    <tr>\n      <th>0</th>\n      <td>0</td>\n      <td>1</td>\n      <td>1</td>\n    </tr>\n    <tr>\n      <th>1</th>\n      <td>0</td>\n      <td>1</td>\n      <td>1</td>\n    </tr>\n    <tr>\n      <th>2</th>\n      <td>0</td>\n      <td>1</td>\n      <td>1</td>\n    </tr>\n    <tr>\n      <th>3</th>\n      <td>0</td>\n      <td>1</td>\n      <td>1</td>\n    </tr>\n    <tr>\n      <th>4</th>\n      <td>0</td>\n      <td>1</td>\n      <td>1</td>\n    </tr>\n  </tbody>\n</table>\n</div>"
     },
     "metadata": {},
     "execution_count": 4
    }
   ],
   "source": [
    "df.head()"
   ]
  },
  {
   "source": [
    "## Analysis\n",
    "1 Standard inference with statistical test  \n",
    "2 Standard inference with Statsmodel  \n",
    "3 Bootstraping inference  "
   ],
   "cell_type": "markdown",
   "metadata": {}
  },
  {
   "source": [
    "### Basic Summary"
   ],
   "cell_type": "markdown",
   "metadata": {}
  },
  {
   "cell_type": "code",
   "execution_count": 1,
   "metadata": {},
   "outputs": [
    {
     "output_type": "error",
     "ename": "NameError",
     "evalue": "name 'pd' is not defined",
     "traceback": [
      "\u001b[0;31m---------------------------------------------------------------------------\u001b[0m",
      "\u001b[0;31mNameError\u001b[0m                                 Traceback (most recent call last)",
      "\u001b[0;32m<ipython-input-1-1bac433ac529>\u001b[0m in \u001b[0;36m<module>\u001b[0;34m\u001b[0m\n\u001b[0;32m----> 1\u001b[0;31m \u001b[0mpd\u001b[0m\u001b[0;34m.\u001b[0m\u001b[0mcrosstab\u001b[0m\u001b[0;34m(\u001b[0m\u001b[0mindex\u001b[0m\u001b[0;34m=\u001b[0m\u001b[0mdf\u001b[0m\u001b[0;34m[\u001b[0m\u001b[0;34m'VACCINATED'\u001b[0m\u001b[0;34m]\u001b[0m\u001b[0;34m,\u001b[0m \u001b[0mcolumns\u001b[0m\u001b[0;34m=\u001b[0m\u001b[0mdf\u001b[0m\u001b[0;34m[\u001b[0m\u001b[0;34m'INFECTED'\u001b[0m\u001b[0;34m]\u001b[0m\u001b[0;34m)\u001b[0m\u001b[0;34m\u001b[0m\u001b[0;34m\u001b[0m\u001b[0m\n\u001b[0m",
      "\u001b[0;31mNameError\u001b[0m: name 'pd' is not defined"
     ]
    }
   ],
   "source": [
    "pd.crosstab(index=df['VACCINATED'], columns=df['INFECTED'])"
   ]
  },
  {
   "cell_type": "code",
   "execution_count": null,
   "metadata": {},
   "outputs": [],
   "source": [
    "pd.crosstab(index=df['VACCINATED'], columns=df['INFECTED'], margins=True)"
   ]
  },
  {
   "cell_type": "code",
   "execution_count": 11,
   "metadata": {},
   "outputs": [
    {
     "output_type": "execute_result",
     "data": {
      "text/plain": [
       "INFECTED           0         1     All\n",
       "VACCINATED                            \n",
       "0           0.460250  0.046250  0.5065\n",
       "1           0.490917  0.002583  0.4935\n",
       "All         0.951167  0.048833  1.0000"
      ],
      "text/html": "<div>\n<style scoped>\n    .dataframe tbody tr th:only-of-type {\n        vertical-align: middle;\n    }\n\n    .dataframe tbody tr th {\n        vertical-align: top;\n    }\n\n    .dataframe thead th {\n        text-align: right;\n    }\n</style>\n<table border=\"1\" class=\"dataframe\">\n  <thead>\n    <tr style=\"text-align: right;\">\n      <th>INFECTED</th>\n      <th>0</th>\n      <th>1</th>\n      <th>All</th>\n    </tr>\n    <tr>\n      <th>VACCINATED</th>\n      <th></th>\n      <th></th>\n      <th></th>\n    </tr>\n  </thead>\n  <tbody>\n    <tr>\n      <th>0</th>\n      <td>0.460250</td>\n      <td>0.046250</td>\n      <td>0.5065</td>\n    </tr>\n    <tr>\n      <th>1</th>\n      <td>0.490917</td>\n      <td>0.002583</td>\n      <td>0.4935</td>\n    </tr>\n    <tr>\n      <th>All</th>\n      <td>0.951167</td>\n      <td>0.048833</td>\n      <td>1.0000</td>\n    </tr>\n  </tbody>\n</table>\n</div>"
     },
     "metadata": {},
     "execution_count": 11
    }
   ],
   "source": [
    "pd.crosstab(index=df['VACCINATED'], columns=df['INFECTED'], margins=True, normalize=True)"
   ]
  },
  {
   "source": [
    "### 1) Test if the `INFECTED` independence of `VACCINATED`  "
   ],
   "cell_type": "markdown",
   "metadata": {}
  },
  {
   "source": [
    "#### 1.1) $\\chi^2$ test of independence, library `Scipy`  \n",
    "reference : https://www.jmp.com/en_us/statistics-knowledge-portal/chi-square-test.html  \n",
    "reference : https://stats.stackexchange.com/questions/110718/chi-squared-test-with-scipy-whats-the-difference-between-chi2-contingency-and  "
   ],
   "cell_type": "markdown",
   "metadata": {}
  },
  {
   "cell_type": "code",
   "execution_count": 22,
   "metadata": {},
   "outputs": [],
   "source": [
    "from scipy.stats import chi2_contingency"
   ]
  },
  {
   "cell_type": "code",
   "execution_count": 23,
   "metadata": {},
   "outputs": [],
   "source": [
    "contingency_tbl = pd.crosstab(index=df['VACCINATED'], columns=df['INFECTED'])"
   ]
  },
  {
   "cell_type": "code",
   "execution_count": 26,
   "metadata": {},
   "outputs": [
    {
     "output_type": "execute_result",
     "data": {
      "text/plain": [
       "array([[5781.191,  296.809],\n",
       "       [5632.809,  289.191]])"
      ]
     },
     "metadata": {},
     "execution_count": 26
    }
   ],
   "source": [
    "chi, p, ddof, expected = chi2_contingency(contingency_tbl)\n",
    "expected"
   ]
  },
  {
   "cell_type": "code",
   "execution_count": 27,
   "metadata": {},
   "outputs": [
    {
     "output_type": "stream",
     "name": "stdout",
     "text": [
      "1.1586205594709897e-105\n"
     ]
    }
   ],
   "source": [
    "print(p)"
   ]
  },
  {
   "source": [
    "With p = 1.15 e-105, chance of repeate testing and find the same result : dependence between 2 categorical variables"
   ],
   "cell_type": "markdown",
   "metadata": {}
  },
  {
   "source": [
    "#### 1.2) $\\chi^2$ test of independence, library `statsmodels.`\n",
    "reference : https://www.statsmodels.org/stable/contingency_tables.html"
   ],
   "cell_type": "markdown",
   "metadata": {}
  },
  {
   "cell_type": "code",
   "execution_count": 16,
   "metadata": {},
   "outputs": [],
   "source": [
    "contingency_tbl = pd.crosstab(index=df['VACCINATED'], columns=df['INFECTED'])\n",
    "# Convert numpy table to Statsmodel contingency table\n",
    "cont_tbl_sm = sm.stats.Table(contingency_tbl)"
   ]
  },
  {
   "cell_type": "code",
   "execution_count": 19,
   "metadata": {},
   "outputs": [
    {
     "output_type": "execute_result",
     "data": {
      "text/plain": [
       "INFECTED       0    1\n",
       "VACCINATED           \n",
       "0           5523  555\n",
       "1           5891   31"
      ],
      "text/html": "<div>\n<style scoped>\n    .dataframe tbody tr th:only-of-type {\n        vertical-align: middle;\n    }\n\n    .dataframe tbody tr th {\n        vertical-align: top;\n    }\n\n    .dataframe thead th {\n        text-align: right;\n    }\n</style>\n<table border=\"1\" class=\"dataframe\">\n  <thead>\n    <tr style=\"text-align: right;\">\n      <th>INFECTED</th>\n      <th>0</th>\n      <th>1</th>\n    </tr>\n    <tr>\n      <th>VACCINATED</th>\n      <th></th>\n      <th></th>\n    </tr>\n  </thead>\n  <tbody>\n    <tr>\n      <th>0</th>\n      <td>5523</td>\n      <td>555</td>\n    </tr>\n    <tr>\n      <th>1</th>\n      <td>5891</td>\n      <td>31</td>\n    </tr>\n  </tbody>\n</table>\n</div>"
     },
     "metadata": {},
     "execution_count": 19
    }
   ],
   "source": [
    "# original contingency table\n",
    "cont_tbl_sm.table_orig"
   ]
  },
  {
   "cell_type": "code",
   "execution_count": 28,
   "metadata": {},
   "outputs": [
    {
     "output_type": "execute_result",
     "data": {
      "text/plain": [
       "INFECTED           0        1\n",
       "VACCINATED                   \n",
       "0           5781.191  296.809\n",
       "1           5632.809  289.191"
      ],
      "text/html": "<div>\n<style scoped>\n    .dataframe tbody tr th:only-of-type {\n        vertical-align: middle;\n    }\n\n    .dataframe tbody tr th {\n        vertical-align: top;\n    }\n\n    .dataframe thead th {\n        text-align: right;\n    }\n</style>\n<table border=\"1\" class=\"dataframe\">\n  <thead>\n    <tr style=\"text-align: right;\">\n      <th>INFECTED</th>\n      <th>0</th>\n      <th>1</th>\n    </tr>\n    <tr>\n      <th>VACCINATED</th>\n      <th></th>\n      <th></th>\n    </tr>\n  </thead>\n  <tbody>\n    <tr>\n      <th>0</th>\n      <td>5781.191</td>\n      <td>296.809</td>\n    </tr>\n    <tr>\n      <th>1</th>\n      <td>5632.809</td>\n      <td>289.191</td>\n    </tr>\n  </tbody>\n</table>\n</div>"
     },
     "metadata": {},
     "execution_count": 28
    }
   ],
   "source": [
    "# Expected contingency table if factor are independence\n",
    "cont_tbl_sm.fittedvalues"
   ]
  },
  {
   "cell_type": "code",
   "execution_count": 37,
   "metadata": {},
   "outputs": [
    {
     "output_type": "execute_result",
     "data": {
      "text/plain": [
       "0.0"
      ]
     },
     "metadata": {},
     "execution_count": 37
    }
   ],
   "source": [
    "test_chi_indep = cont_tbl_sm.test_nominal_association()\n",
    "test_chi_indep.pvalue"
   ]
  },
  {
   "source": [
    "### 2) Test if proportion of `INFECTED` differ between `VACCINATED` group"
   ],
   "cell_type": "markdown",
   "metadata": {}
  },
  {
   "source": [
    "#### 2.1) Sampling distribution test with $Z-test$ , library `scipy`\n",
    "\n",
    "reference : https://online.stat.psu.edu/stat415/lesson/9/9.4\n",
    "\n",
    "reference : https://www.statsmodels.org/stable/generated/statsmodels.stats.proportion.test_proportions_2indep.html#statsmodels.stats.proportion.test_proportions_2indep\n",
    "\n",
    "`Assumption CTL` difference of sampling proportion is *Normal*\n",
    "Hypothesis Test  \n",
    "$H_0$ : $P_{vac} = P_{not vac.}$, $P_{vac} - P_{not vac.} = 0$  \n",
    "$H_A$ : $P_{vac} \\neq P_{not vac.}$"
   ],
   "cell_type": "markdown",
   "metadata": {}
  },
  {
   "cell_type": "code",
   "execution_count": 57,
   "metadata": {},
   "outputs": [],
   "source": [
    "df_vac = df[df['VACCINATED'] == 1]\n",
    "df_not_vac = df[df['VACCINATED'] != 1]\n",
    "n_vac = df_vac.shape[0]\n",
    "n_not_vac = df_not_vac.shape[0]\n",
    "n_combine = df.shape[0]\n",
    "p_vac = df_vac['INFECTED'].sum()/n_vac\n",
    "p_not_vac = df_not_vac['INFECTED'].sum()/n_not_vac\n",
    "p_combine = df['INFECTED'].sum()/n_combine\n",
    "se_combine = np.sqrt((p_combine*(1-p_combine))*(1/n_not_vac + 1/n_vac))"
   ]
  },
  {
   "cell_type": "code",
   "execution_count": 58,
   "metadata": {},
   "outputs": [
    {
     "output_type": "stream",
     "name": "stdout",
     "text": [
      "0.005234718000675448, 5922\n0.09131293188548864, 6078\n0.04883333333333333, 12000\n"
     ]
    }
   ],
   "source": [
    "print(f'{p_vac}, {n_vac}'); print(f'{p_not_vac}, {n_not_vac}'); print(f'{p_combine}, {n_combine}')"
   ]
  },
  {
   "cell_type": "code",
   "execution_count": 65,
   "metadata": {},
   "outputs": [],
   "source": [
    "z_test_score = ((p_not_vac - p_vac) - (0))/se_combine"
   ]
  },
  {
   "cell_type": "code",
   "execution_count": 66,
   "metadata": {},
   "outputs": [
    {
     "output_type": "stream",
     "name": "stdout",
     "text": [
      "21.874124374627076\n2.291116351867227e-106\n"
     ]
    }
   ],
   "source": [
    "import scipy as sp\n",
    "\n",
    "print(z_test_score)\n",
    "p_value = sp.stats.norm.sf(z_test_score)\n",
    "print(p_value)"
   ]
  },
  {
   "source": [
    "#### 2.2) Sampling distribution test with $Z-test$ , library `statsmodels`\n",
    "reference : https://sonalake.com/latest/hypothesis-testing-of-proportion-based-samples/"
   ],
   "cell_type": "markdown",
   "metadata": {}
  },
  {
   "cell_type": "code",
   "execution_count": 67,
   "metadata": {},
   "outputs": [
    {
     "output_type": "stream",
     "name": "stdout",
     "text": [
      "z_stat: 21.874, p_value: 0.000\n"
     ]
    }
   ],
   "source": [
    "from statsmodels.stats.proportion import proportions_ztest\n",
    "import numpy as np\n",
    "\n",
    "vac_infected, vac_size = (df_vac['INFECTED'].sum(), df_vac.shape[0])\n",
    "not_vac_infected, not_vac_infected_size = (df_not_vac['INFECTED'].sum(), df_not_vac.shape[0])\n",
    "\n",
    "# check our sample against Ho for Ha != Ho\n",
    "total_infected = np.array([not_vac_infected, vac_infected])\n",
    "total_size = np.array([not_vac_infected_size, vac_size])\n",
    "\n",
    "# note, no need for a Ho value here - it's derived from the other parameters\n",
    "stat, p_value = proportions_ztest(count=total_infected, nobs=total_size,  alternative='two-sided')\n",
    "\n",
    "# report\n",
    "print('z_stat: %0.3f, p_value: %0.3f' % (stat, p_value))"
   ]
  },
  {
   "source": [
    "#### 2.3) Bootstraping / Monte Carlo test  \n",
    "reference : https://stats.stackexchange.com/questions/395120/proportion-test-z-test-vs-bootstrap-simulation-different-results  \n",
    "\n",
    "Null pypothesis  \n",
    "$H_0 : p_{not_vac} = p_{vac}$ or $p_{not_vac} - p_{vac} = 0$"
   ],
   "cell_type": "markdown",
   "metadata": {}
  },
  {
   "cell_type": "code",
   "execution_count": 11,
   "metadata": {},
   "outputs": [
    {
     "output_type": "execute_result",
     "data": {
      "text/plain": [
       "INFECTED           0         1\n",
       "VACCINATED                    \n",
       "0           0.908687  0.091313\n",
       "1           0.994765  0.005235\n",
       "All         0.951167  0.048833"
      ],
      "text/html": "<div>\n<style scoped>\n    .dataframe tbody tr th:only-of-type {\n        vertical-align: middle;\n    }\n\n    .dataframe tbody tr th {\n        vertical-align: top;\n    }\n\n    .dataframe thead th {\n        text-align: right;\n    }\n</style>\n<table border=\"1\" class=\"dataframe\">\n  <thead>\n    <tr style=\"text-align: right;\">\n      <th>INFECTED</th>\n      <th>0</th>\n      <th>1</th>\n    </tr>\n    <tr>\n      <th>VACCINATED</th>\n      <th></th>\n      <th></th>\n    </tr>\n  </thead>\n  <tbody>\n    <tr>\n      <th>0</th>\n      <td>0.908687</td>\n      <td>0.091313</td>\n    </tr>\n    <tr>\n      <th>1</th>\n      <td>0.994765</td>\n      <td>0.005235</td>\n    </tr>\n    <tr>\n      <th>All</th>\n      <td>0.951167</td>\n      <td>0.048833</td>\n    </tr>\n  </tbody>\n</table>\n</div>"
     },
     "metadata": {},
     "execution_count": 11
    }
   ],
   "source": [
    "pd.crosstab(index=df['VACCINATED'], columns=df['INFECTED'], margins=True, normalize='index')"
   ]
  },
  {
   "source": [
    "Hypothesis test with `Mote Carlo` method, assume Binomial Distribution"
   ],
   "cell_type": "markdown",
   "metadata": {}
  },
  {
   "cell_type": "code",
   "execution_count": 34,
   "metadata": {},
   "outputs": [
    {
     "output_type": "stream",
     "name": "stdout",
     "text": [
      "p-value : 0.0\n"
     ]
    }
   ],
   "source": [
    "from numpy.random import binomial\n",
    "\n",
    "p_0 = df['INFECTED'].mean()\n",
    "p_a = df[df['VACCINATED'] == 1]['INFECTED'].mean()\n",
    "n_size = df.shape[0]\n",
    "\n",
    "print(f'p-value : {sum((np.random.binomial(n_size, p_0, 10000)/n_size) < p_a)/10000}')"
   ]
  },
  {
   "source": [
    "Confidence interval of difference proportion with `Bootstrap`"
   ],
   "cell_type": "markdown",
   "metadata": {}
  },
  {
   "cell_type": "code",
   "execution_count": 36,
   "metadata": {},
   "outputs": [],
   "source": [
    "def diff_prop(df):\n",
    "    \"\"\"calculate difference proportion infected\"\"\"\n",
    "    vac = df[df['VACCINATED'] == 1]\n",
    "    not_vac = df[df['VACCINATED'] != 1]\n",
    "    n_vac_infected = vac['INFECTED'].sum()\n",
    "    n_not_vac_infected = not_vac['INFECTED'].sum()\n",
    "\n",
    "    return (n_not_vac_infected/not_vac.shape[0]) - (n_vac_infected/vac.shape[0])"
   ]
  },
  {
   "cell_type": "code",
   "execution_count": 37,
   "metadata": {},
   "outputs": [],
   "source": [
    "bs_replicate = np.empty(10000)\n",
    "for i in range(10000):\n",
    "    bs_df = df.sample(n=df.shape[0], replace=True)\n",
    "    bs_replicate[i] = diff_prop(bs_df)"
   ]
  },
  {
   "cell_type": "code",
   "execution_count": 38,
   "metadata": {},
   "outputs": [
    {
     "output_type": "execute_result",
     "data": {
      "text/plain": [
       "array([0.07990947, 0.09236965])"
      ]
     },
     "metadata": {},
     "execution_count": 38
    }
   ],
   "source": [
    "# conf interval 5% of difference of proportion\n",
    "np.percentile(bs_replicate, [5, 95])"
   ]
  },
  {
   "source": [
    "## Logistic Regression for Vaccine Efficacy\n",
    "library `statsmodels`\n",
    "\n",
    "Reference : https://sachin-date.medium.com/how-to-estimate-vaccine-efficacy-using-a-logistic-regression-model-121f9ca5a9d8"
   ],
   "cell_type": "markdown",
   "metadata": {}
  },
  {
   "cell_type": "code",
   "execution_count": 4,
   "metadata": {},
   "outputs": [],
   "source": [
    "import statsmodels.formula.api as smf"
   ]
  },
  {
   "cell_type": "code",
   "execution_count": 7,
   "metadata": {},
   "outputs": [
    {
     "output_type": "stream",
     "name": "stdout",
     "text": [
      "Optimization terminated successfully.\n         Current function value: 0.170907\n         Iterations 9\n"
     ]
    },
    {
     "output_type": "execute_result",
     "data": {
      "text/plain": [
       "<class 'statsmodels.iolib.summary.Summary'>\n",
       "\"\"\"\n",
       "                           Logit Regression Results                           \n",
       "==============================================================================\n",
       "Dep. Variable:               INFECTED   No. Observations:                12000\n",
       "Model:                          Logit   Df Residuals:                    11997\n",
       "Method:                           MLE   Df Model:                            2\n",
       "Date:                Sat, 15 May 2021   Pseudo R-squ.:                  0.1238\n",
       "Time:                        09:26:02   Log-Likelihood:                -2050.9\n",
       "converged:                       True   LL-Null:                       -2340.8\n",
       "Covariance Type:            nonrobust   LLR p-value:                1.254e-126\n",
       "==========================================================================================\n",
       "                             coef    std err          z      P>|z|      [0.025      0.975]\n",
       "------------------------------------------------------------------------------------------\n",
       "Intercept                 -2.3154      0.063    -36.816      0.000      -2.439      -2.192\n",
       "INTERVAL_BETWEEN_DOSES     0.0347      0.086      0.401      0.688      -0.135       0.204\n",
       "VACCINATED                -2.9491      0.186    -15.898      0.000      -3.313      -2.585\n",
       "==========================================================================================\n",
       "\"\"\""
      ],
      "text/html": "<table class=\"simpletable\">\n<caption>Logit Regression Results</caption>\n<tr>\n  <th>Dep. Variable:</th>       <td>INFECTED</td>     <th>  No. Observations:  </th>   <td> 12000</td>  \n</tr>\n<tr>\n  <th>Model:</th>                 <td>Logit</td>      <th>  Df Residuals:      </th>   <td> 11997</td>  \n</tr>\n<tr>\n  <th>Method:</th>                 <td>MLE</td>       <th>  Df Model:          </th>   <td>     2</td>  \n</tr>\n<tr>\n  <th>Date:</th>            <td>Sat, 15 May 2021</td> <th>  Pseudo R-squ.:     </th>   <td>0.1238</td>  \n</tr>\n<tr>\n  <th>Time:</th>                <td>09:26:02</td>     <th>  Log-Likelihood:    </th>  <td> -2050.9</td> \n</tr>\n<tr>\n  <th>converged:</th>             <td>True</td>       <th>  LL-Null:           </th>  <td> -2340.8</td> \n</tr>\n<tr>\n  <th>Covariance Type:</th>     <td>nonrobust</td>    <th>  LLR p-value:       </th> <td>1.254e-126</td>\n</tr>\n</table>\n<table class=\"simpletable\">\n<tr>\n             <td></td>               <th>coef</th>     <th>std err</th>      <th>z</th>      <th>P>|z|</th>  <th>[0.025</th>    <th>0.975]</th>  \n</tr>\n<tr>\n  <th>Intercept</th>              <td>   -2.3154</td> <td>    0.063</td> <td>  -36.816</td> <td> 0.000</td> <td>   -2.439</td> <td>   -2.192</td>\n</tr>\n<tr>\n  <th>INTERVAL_BETWEEN_DOSES</th> <td>    0.0347</td> <td>    0.086</td> <td>    0.401</td> <td> 0.688</td> <td>   -0.135</td> <td>    0.204</td>\n</tr>\n<tr>\n  <th>VACCINATED</th>             <td>   -2.9491</td> <td>    0.186</td> <td>  -15.898</td> <td> 0.000</td> <td>   -3.313</td> <td>   -2.585</td>\n</tr>\n</table>"
     },
     "metadata": {},
     "execution_count": 7
    }
   ],
   "source": [
    "logit_model = smf.logit('INFECTED ~ INTERVAL_BETWEEN_DOSES + VACCINATED', data = df)\n",
    "logit_result = logit_model.fit()\n",
    "logit_result.summary()"
   ]
  },
  {
   "source": [
    "### Key Points\n",
    "- `Log-Likelihood Ratio` is 1.25e-126 (which is essentially zero) indicating that the model does indeed fit better than a Null model  \n",
    "- `psuedo R-squared` is only 12.38% indicating a poor fit. We might want to experiment with a Poisson, a Generalized Poisson or a Negative Binomial  \n",
    "- `p-value` of the coefficient of the `INTERVAL_BETWEEN_DOSES` variable is 0.688, which means that we cannot say at even a 40% confidence level that the coefficient of `INTERVAL_BETWEEN_DOSES` is really any different from 0."
   ],
   "cell_type": "markdown",
   "metadata": {}
  },
  {
   "source": [
    "`Question` : the coefficent if split between `Vaccinated` and `Non-Vaccinated` data group will be the same?"
   ],
   "cell_type": "markdown",
   "metadata": {}
  },
  {
   "cell_type": "code",
   "execution_count": 8,
   "metadata": {},
   "outputs": [
    {
     "output_type": "stream",
     "name": "stdout",
     "text": [
      "Optimization terminated successfully.\n         Current function value: 0.031917\n         Iterations 10\nOptimization terminated successfully.\n         Current function value: 0.305456\n         Iterations 6\n"
     ]
    }
   ],
   "source": [
    "logit_vac = smf.logit('INFECTED ~ INTERVAL_BETWEEN_DOSES', data = df[df['VACCINATED'] == 1])\n",
    "logit_vac_result = logit_vac.fit()\n",
    "logit_non_vac = smf.logit('INFECTED ~ INTERVAL_BETWEEN_DOSES', data = df[df['VACCINATED'] == 0])\n",
    "logit_non_vac_result = logit_non_vac.fit()"
   ]
  },
  {
   "cell_type": "code",
   "execution_count": 9,
   "metadata": {},
   "outputs": [
    {
     "output_type": "execute_result",
     "data": {
      "text/plain": [
       "<class 'statsmodels.iolib.summary.Summary'>\n",
       "\"\"\"\n",
       "                           Logit Regression Results                           \n",
       "==============================================================================\n",
       "Dep. Variable:               INFECTED   No. Observations:                 5922\n",
       "Model:                          Logit   Df Residuals:                     5920\n",
       "Method:                           MLE   Df Model:                            1\n",
       "Date:                Sat, 15 May 2021   Pseudo R-squ.:                 0.02442\n",
       "Time:                        09:28:29   Log-Likelihood:                -189.01\n",
       "converged:                       True   LL-Null:                       -193.74\n",
       "Covariance Type:            nonrobust   LLR p-value:                  0.002098\n",
       "==========================================================================================\n",
       "                             coef    std err          z      P>|z|      [0.025      0.975]\n",
       "------------------------------------------------------------------------------------------\n",
       "Intercept                 -4.8203      0.205    -23.520      0.000      -5.222      -4.419\n",
       "INTERVAL_BETWEEN_DOSES    -1.2114      0.430     -2.815      0.005      -2.055      -0.368\n",
       "==========================================================================================\n",
       "\"\"\""
      ],
      "text/html": "<table class=\"simpletable\">\n<caption>Logit Regression Results</caption>\n<tr>\n  <th>Dep. Variable:</th>       <td>INFECTED</td>     <th>  No. Observations:  </th>  <td>  5922</td> \n</tr>\n<tr>\n  <th>Model:</th>                 <td>Logit</td>      <th>  Df Residuals:      </th>  <td>  5920</td> \n</tr>\n<tr>\n  <th>Method:</th>                 <td>MLE</td>       <th>  Df Model:          </th>  <td>     1</td> \n</tr>\n<tr>\n  <th>Date:</th>            <td>Sat, 15 May 2021</td> <th>  Pseudo R-squ.:     </th>  <td>0.02442</td>\n</tr>\n<tr>\n  <th>Time:</th>                <td>09:28:29</td>     <th>  Log-Likelihood:    </th> <td> -189.01</td>\n</tr>\n<tr>\n  <th>converged:</th>             <td>True</td>       <th>  LL-Null:           </th> <td> -193.74</td>\n</tr>\n<tr>\n  <th>Covariance Type:</th>     <td>nonrobust</td>    <th>  LLR p-value:       </th> <td>0.002098</td>\n</tr>\n</table>\n<table class=\"simpletable\">\n<tr>\n             <td></td>               <th>coef</th>     <th>std err</th>      <th>z</th>      <th>P>|z|</th>  <th>[0.025</th>    <th>0.975]</th>  \n</tr>\n<tr>\n  <th>Intercept</th>              <td>   -4.8203</td> <td>    0.205</td> <td>  -23.520</td> <td> 0.000</td> <td>   -5.222</td> <td>   -4.419</td>\n</tr>\n<tr>\n  <th>INTERVAL_BETWEEN_DOSES</th> <td>   -1.2114</td> <td>    0.430</td> <td>   -2.815</td> <td> 0.005</td> <td>   -2.055</td> <td>   -0.368</td>\n</tr>\n</table>"
     },
     "metadata": {},
     "execution_count": 9
    }
   ],
   "source": [
    "logit_vac_result.summary()"
   ]
  },
  {
   "cell_type": "code",
   "execution_count": 10,
   "metadata": {},
   "outputs": [
    {
     "output_type": "execute_result",
     "data": {
      "text/plain": [
       "<class 'statsmodels.iolib.summary.Summary'>\n",
       "\"\"\"\n",
       "                           Logit Regression Results                           \n",
       "==============================================================================\n",
       "Dep. Variable:               INFECTED   No. Observations:                 6078\n",
       "Model:                          Logit   Df Residuals:                     6076\n",
       "Method:                           MLE   Df Model:                            1\n",
       "Date:                Sat, 15 May 2021   Pseudo R-squ.:               0.0003578\n",
       "Time:                        09:28:55   Log-Likelihood:                -1856.6\n",
       "converged:                       True   LL-Null:                       -1857.2\n",
       "Covariance Type:            nonrobust   LLR p-value:                    0.2490\n",
       "==========================================================================================\n",
       "                             coef    std err          z      P>|z|      [0.025      0.975]\n",
       "------------------------------------------------------------------------------------------\n",
       "Intercept                 -2.3508      0.065    -36.289      0.000      -2.478      -2.224\n",
       "INTERVAL_BETWEEN_DOSES     0.1028      0.089      1.152      0.249      -0.072       0.278\n",
       "==========================================================================================\n",
       "\"\"\""
      ],
      "text/html": "<table class=\"simpletable\">\n<caption>Logit Regression Results</caption>\n<tr>\n  <th>Dep. Variable:</th>       <td>INFECTED</td>     <th>  No. Observations:  </th>  <td>  6078</td>  \n</tr>\n<tr>\n  <th>Model:</th>                 <td>Logit</td>      <th>  Df Residuals:      </th>  <td>  6076</td>  \n</tr>\n<tr>\n  <th>Method:</th>                 <td>MLE</td>       <th>  Df Model:          </th>  <td>     1</td>  \n</tr>\n<tr>\n  <th>Date:</th>            <td>Sat, 15 May 2021</td> <th>  Pseudo R-squ.:     </th> <td>0.0003578</td>\n</tr>\n<tr>\n  <th>Time:</th>                <td>09:28:55</td>     <th>  Log-Likelihood:    </th> <td> -1856.6</td> \n</tr>\n<tr>\n  <th>converged:</th>             <td>True</td>       <th>  LL-Null:           </th> <td> -1857.2</td> \n</tr>\n<tr>\n  <th>Covariance Type:</th>     <td>nonrobust</td>    <th>  LLR p-value:       </th>  <td>0.2490</td>  \n</tr>\n</table>\n<table class=\"simpletable\">\n<tr>\n             <td></td>               <th>coef</th>     <th>std err</th>      <th>z</th>      <th>P>|z|</th>  <th>[0.025</th>    <th>0.975]</th>  \n</tr>\n<tr>\n  <th>Intercept</th>              <td>   -2.3508</td> <td>    0.065</td> <td>  -36.289</td> <td> 0.000</td> <td>   -2.478</td> <td>   -2.224</td>\n</tr>\n<tr>\n  <th>INTERVAL_BETWEEN_DOSES</th> <td>    0.1028</td> <td>    0.089</td> <td>    1.152</td> <td> 0.249</td> <td>   -0.072</td> <td>    0.278</td>\n</tr>\n</table>"
     },
     "metadata": {},
     "execution_count": 10
    }
   ],
   "source": [
    "logit_non_vac_result.summary()"
   ]
  }
 ]
}